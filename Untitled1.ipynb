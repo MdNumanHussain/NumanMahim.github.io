{
 "cells": [
  {
   "cell_type": "code",
   "execution_count": 7,
   "id": "0f3f37af",
   "metadata": {},
   "outputs": [
    {
     "name": "stdout",
     "output_type": "stream",
     "text": [
      "Requirement already satisfied: requests in /Library/Frameworks/Python.framework/Versions/3.7/lib/python3.7/site-packages (2.31.0)\n",
      "Requirement already satisfied: charset-normalizer<4,>=2 in /Library/Frameworks/Python.framework/Versions/3.7/lib/python3.7/site-packages (from requests) (3.3.2)\n",
      "Requirement already satisfied: idna<4,>=2.5 in /Library/Frameworks/Python.framework/Versions/3.7/lib/python3.7/site-packages (from requests) (3.7)\n",
      "Requirement already satisfied: urllib3<3,>=1.21.1 in /Library/Frameworks/Python.framework/Versions/3.7/lib/python3.7/site-packages (from requests) (2.0.7)\n",
      "Requirement already satisfied: certifi>=2017.4.17 in /Library/Frameworks/Python.framework/Versions/3.7/lib/python3.7/site-packages (from requests) (2024.2.2)\n",
      "\n",
      "\u001b[1m[\u001b[0m\u001b[34;49mnotice\u001b[0m\u001b[1;39;49m]\u001b[0m\u001b[39;49m A new release of pip is available: \u001b[0m\u001b[31;49m23.3.2\u001b[0m\u001b[39;49m -> \u001b[0m\u001b[32;49m24.0\u001b[0m\n",
      "\u001b[1m[\u001b[0m\u001b[34;49mnotice\u001b[0m\u001b[1;39;49m]\u001b[0m\u001b[39;49m To update, run: \u001b[0m\u001b[32;49mpip install --upgrade pip\u001b[0m\n"
     ]
    }
   ],
   "source": [
    "# Run this cell to ensure the requests library is installed\n",
    "!pip install requests\n"
   ]
  },
  {
   "cell_type": "code",
   "execution_count": 13,
   "id": "ba4eab89",
   "metadata": {},
   "outputs": [],
   "source": [
    "# Import the requests library\n",
    "import requests\n"
   ]
  },
  {
   "cell_type": "code",
   "execution_count": 15,
   "id": "bca2a167",
   "metadata": {},
   "outputs": [],
   "source": [
    "# Define the function to send messages through Telegram\n",
    "def send_telegram_message(bot_token, chat_id, message):\n",
    "    url = f'https://api.telegram.org/bot{bot_token}/sendMessage'\n",
    "    data = {'chat_id': chat_id, 'text': message}\n",
    "    response = requests.post(url, data=data)\n",
    "    return response.json()  # This will return and display the response from the Telegram API\n"
   ]
  },
  {
   "cell_type": "code",
   "execution_count": 19,
   "id": "550e774b",
   "metadata": {},
   "outputs": [
    {
     "name": "stdout",
     "output_type": "stream",
     "text": [
      "{'ok': True, 'result': {'message_id': 4, 'from': {'id': 7073059910, 'is_bot': True, 'first_name': 'PortfolioBot', 'username': 'numans_portfolio_bot'}, 'chat': {'id': 7165607497, 'first_name': 'MD Numan', 'last_name': 'Hussain', 'type': 'private'}, 'date': 1715731019, 'text': 'Hello, this is a message from my Telegram bot numan!'}}\n"
     ]
    }
   ],
   "source": [
    "# Define your bot token, chat ID, and the message\n",
    "bot_token = '7073059910:AAE-KjA9a8wHzI9iDkmOfFa6EWuJhLcZOHQ'  # Use your actual bot token\n",
    "chat_id = '7165607497'  # Make sure this is the correct chat ID\n",
    "message = 'Hello, this is a message from my Telegram bot numan!'\n",
    "\n",
    "# Call the function to send the message\n",
    "response = send_telegram_message(bot_token, chat_id, message)\n",
    "\n",
    "# Print the response to check if it was successful\n",
    "print(response)\n"
   ]
  }
 ],
 "metadata": {
  "kernelspec": {
   "display_name": "Python 3 (ipykernel)",
   "language": "python",
   "name": "python3"
  },
  "language_info": {
   "codemirror_mode": {
    "name": "ipython",
    "version": 3
   },
   "file_extension": ".py",
   "mimetype": "text/x-python",
   "name": "python",
   "nbconvert_exporter": "python",
   "pygments_lexer": "ipython3",
   "version": "3.7.7"
  }
 },
 "nbformat": 4,
 "nbformat_minor": 5
}
