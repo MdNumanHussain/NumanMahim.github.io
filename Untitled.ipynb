{
 "cells": [
  {
   "cell_type": "code",
   "execution_count": null,
   "id": "e5f2f8b6",
   "metadata": {},
   "outputs": [],
   "source": [
    "\n",
    "import requests\n",
    "\n",
    "def send_telegram_message(bot_token, chat_id, message):\n",
    "    url = f'https://api.telegram.org/bot{bot_token}/sendMessage'\n",
    "    data = {'chat_id': chat_id, 'text': message}\n",
    "    response = requests.post(url, data=data)\n",
    "    return response.json()\n",
    "\n",
    "# Replace 'your_bot_token_here' with your bot's token\n",
    "bot_token = '7073059910:AAE-KjA9a8wHzI9iDkmOfFa6EWuJhLcZOHQ'\n",
    "chat_id = '7165607497'  # Replace with your chat ID\n",
    "message = 'Hello, MD Numan! This is your first message from your new Telegram bot.'\n",
    "send_telegram_message(bot_token, chat_id, message)\n"
   ]
  }
 ],
 "metadata": {
  "kernelspec": {
   "display_name": "Python 3 (ipykernel)",
   "language": "python",
   "name": "python3"
  },
  "language_info": {
   "codemirror_mode": {
    "name": "ipython",
    "version": 3
   },
   "file_extension": ".py",
   "mimetype": "text/x-python",
   "name": "python",
   "nbconvert_exporter": "python",
   "pygments_lexer": "ipython3",
   "version": "3.7.7"
  }
 },
 "nbformat": 4,
 "nbformat_minor": 5
}
